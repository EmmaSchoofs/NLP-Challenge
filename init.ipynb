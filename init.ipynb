{
 "cells": [
  {
   "cell_type": "markdown",
   "metadata": {},
   "source": [
    "Run this cell to create the virtual environment. \n",
    "Download python 3.10.0 first and select it as active kernal https://www.python.org/downloads/release/python-3100/"
   ]
  },
  {
   "cell_type": "code",
   "execution_count": 5,
   "metadata": {},
   "outputs": [
    {
     "name": "stdout",
     "output_type": "stream",
     "text": [
      "Virtual environment already exists.\n"
     ]
    }
   ],
   "source": [
    "import os\n",
    "import subprocess\n",
    "\n",
    "# Define the environment name and path\n",
    "env_name = 'NLP_challenge_env'\n",
    "env_path = os.path.join(os.getcwd(), env_name)\n",
    "\n",
    "# Check if the virtual environment already exists\n",
    "if not os.path.exists(env_path):\n",
    "    print(\"Creating virtual environment...\")\n",
    "    subprocess.run(['python', '-m', 'venv', env_name], check=True)\n",
    "else:\n",
    "    print(\"Virtual environment already exists.\")\n"
   ]
  },
  {
   "cell_type": "markdown",
   "metadata": {},
   "source": [
    "Run this cell to install all requirements. Make sure to run this in the virtual environment in this notebook. You can activate the environment by running this command in your terminal.\n",
    "\n",
    "```bash\n",
    " NLP_challenge_env\\\\Scripts\\\\activate\n",
    " ``` \n"
   ]
  },
  {
   "cell_type": "code",
   "execution_count": null,
   "metadata": {},
   "outputs": [
    {
     "name": "stdout",
     "output_type": "stream",
     "text": [
      "Installing requirements...\n"
     ]
    }
   ],
   "source": [
    "import os\n",
    "import subprocess\n",
    "\n",
    "# Define the path to requirements.txt\n",
    "requirements_file = 'requirements.txt'\n",
    "\n",
    "# Activate the virtual environment and install requirements\n",
    "if os.path.exists(requirements_file):\n",
    "    print(\"Installing requirements...\")\n",
    "    result = subprocess.run(f'pip install -r {requirements_file}', shell=True, check=True, capture_output=True)\n",
    "    print(result.stdout)\n",
    "\n",
    "\n",
    "else:\n",
    "    print(\"requirements.txt not found. Please make sure the file is in the same directory.\")\n"
   ]
  }
 ],
 "metadata": {
  "kernelspec": {
   "display_name": "NLP_challenge_env",
   "language": "python",
   "name": "python3"
  },
  "language_info": {
   "codemirror_mode": {
    "name": "ipython",
    "version": 3
   },
   "file_extension": ".py",
   "mimetype": "text/x-python",
   "name": "python",
   "nbconvert_exporter": "python",
   "pygments_lexer": "ipython3",
   "version": "3.10.0"
  }
 },
 "nbformat": 4,
 "nbformat_minor": 2
}
