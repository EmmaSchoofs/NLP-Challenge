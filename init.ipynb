{
 "cells": [
  {
   "cell_type": "markdown",
   "metadata": {},
   "source": [
    "Run this cell to create the virtual environment."
   ]
  },
  {
   "cell_type": "code",
   "execution_count": 1,
   "metadata": {},
   "outputs": [
    {
     "name": "stdout",
     "output_type": "stream",
     "text": [
      "Creating virtual environment...\n"
     ]
    }
   ],
   "source": [
    "import os\n",
    "import subprocess\n",
    "\n",
    "# Define the environment name and path\n",
    "env_name = 'NLP_challenge_env'\n",
    "env_path = os.path.join(os.getcwd(), env_name)\n",
    "\n",
    "# Check if the virtual environment already exists\n",
    "if not os.path.exists(env_path):\n",
    "    print(\"Creating virtual environment...\")\n",
    "    subprocess.run(['python', '-m', 'venv', env_name], check=True)\n",
    "else:\n",
    "    print(\"Virtual environment already exists.\")\n"
   ]
  },
  {
   "cell_type": "markdown",
   "metadata": {},
   "source": [
    "Run this cell to install all requirements. Make sure to run this in the virtual environment in this notebook. You can activate the environment by running this command in your terminal.\n",
    "\n",
    "```bash\n",
    " CVC_challenge_env\\\\Scripts\\\\activate\n",
    " ``` \n"
   ]
  },
  {
   "cell_type": "code",
   "execution_count": null,
   "metadata": {},
   "outputs": [
    {
     "ename": "",
     "evalue": "",
     "output_type": "error",
     "traceback": [
      "\u001b[1;31mRunning cells with 'CVC_challenge_env (Python 3.12.0)' requires the ipykernel package.\n",
      "\u001b[1;31mRun the following command to install 'ipykernel' into the Python environment. \n",
      "\u001b[1;31mCommand: '\"c:/Users/Gebruiker/OneDrive - Thomas More/Documenten/school/schooljaar3/semester1/deep learning/CVC_challenge/CVC_challenge_env/Scripts/python.exe\" -m pip install ipykernel -U --force-reinstall'"
     ]
    }
   ],
   "source": [
    "import subprocess\n",
    "\n",
    "# Define the path to requirements.txt\n",
    "requirements_file = 'requirements.txt'\n",
    "\n",
    "# Activate the virtual environment and install requirements\n",
    "if os.path.exists(requirements_file):\n",
    "    print(\"Installing requirements...\")\n",
    "    result = subprocess.run(f'pip install -r {requirements_file}', shell=True, check=True, capture_output=True)\n",
    "    print(result.stdout)\n",
    "\n",
    "\n",
    "else:\n",
    "    print(\"requirements.txt not found. Please make sure the file is in the same directory.\")\n"
   ]
  }
 ],
 "metadata": {
  "kernelspec": {
   "display_name": "Python 3",
   "language": "python",
   "name": "python3"
  },
  "language_info": {
   "codemirror_mode": {
    "name": "ipython",
    "version": 3
   },
   "file_extension": ".py",
   "mimetype": "text/x-python",
   "name": "python",
   "nbconvert_exporter": "python",
   "pygments_lexer": "ipython3",
   "version": "3.11.4"
  }
 },
 "nbformat": 4,
 "nbformat_minor": 2
}
